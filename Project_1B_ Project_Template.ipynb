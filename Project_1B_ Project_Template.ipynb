{
 "cells": [
  {
   "cell_type": "markdown",
   "metadata": {
    "editable": true
   },
   "source": [
    "# Part I. ETL Pipeline for Pre-Processing the Files"
   ]
  },
  {
   "cell_type": "markdown",
   "metadata": {
    "editable": true
   },
   "source": [
    "## PLEASE RUN THE FOLLOWING CODE FOR PRE-PROCESSING THE FILES"
   ]
  },
  {
   "cell_type": "markdown",
   "metadata": {
    "editable": true
   },
   "source": [
    "#### Import Python packages "
   ]
  },
  {
   "cell_type": "code",
   "execution_count": 1,
   "metadata": {
    "editable": true
   },
   "outputs": [],
   "source": [
    "# Import Python packages \n",
    "import pandas as pd\n",
    "import cassandra\n",
    "import re\n",
    "import os\n",
    "import glob\n",
    "import numpy as np\n",
    "import json\n",
    "import csv"
   ]
  },
  {
   "cell_type": "markdown",
   "metadata": {
    "editable": true
   },
   "source": [
    "#### Creating list of filepaths to process original event csv data files"
   ]
  },
  {
   "cell_type": "markdown",
   "metadata": {
    "editable": true
   },
   "source": [
    "#### Processing the files to create the data file csv that will be used for Apache Casssandra tables"
   ]
  },
  {
   "cell_type": "code",
   "execution_count": 76,
   "metadata": {
    "editable": true
   },
   "outputs": [],
   "source": [
    "# Get your current folder and subfolder event data\n",
    "filepath = os.getcwd() + '/event_data'\n",
    "\n",
    "# Create a for loop to create a list of files and collect each filepath\n",
    "for root, dirs, files in os.walk(filepath):\n",
    "    dirs[:] = [d for d in dirs if d not in ['.ipynb_checkpoints']] \n",
    "    # join the file path and roots with the subdirectories using glob\n",
    "    file_path_list = glob.glob(os.path.join(root,'*'))\n",
    "\n",
    "# creating a smaller event data csv file called event_datafile_full csv that will be used to insert data into the \\\n",
    "# Apache Cassandra tables\n",
    "csv.register_dialect('myDialect', quoting=csv.QUOTE_ALL, skipinitialspace=True)\n",
    "\n",
    "# set up processed events folder if it doesn't already exist\n",
    "if not os.path.exists('processed_events'):\n",
    "    os.makedirs('processed_events')\n",
    "\n",
    "i = 0\n",
    "\n",
    "# for every filepath in the file path list \n",
    "for raw_file in file_path_list:\n",
    "    # initiating an empty list of rows that will be generated from each file\n",
    "    full_data_rows_list = []\n",
    "    \n",
    "    # reading csv file \n",
    "    with open(raw_file, 'r', encoding = 'utf8', newline='') as csvfile: \n",
    "        # creating a csv reader object \n",
    "        csvreader = csv.reader(csvfile) \n",
    "        next(csvreader)\n",
    "        \n",
    "    # extracting each data row one by one and append it        \n",
    "        for line in csvreader:\n",
    "            full_data_rows_list.append(line) \n",
    "\n",
    "    with open(f'processed_events/event_datafile_{i}.csv', 'w', encoding = 'utf8', newline='') as f:\n",
    "        writer = csv.writer(f, dialect='myDialect')\n",
    "        writer.writerow(['artist','firstName','gender','itemInSession','lastName','length',\\\n",
    "                    'level','location','sessionId','song','userId'])\n",
    "        for row in full_data_rows_list:\n",
    "            if (row[0] == ''):\n",
    "                continue\n",
    "            writer.writerow((row[0], row[2], row[3], row[4], row[5], row[6], row[7], row[8], row[12], row[13], row[16]))\n",
    "    \n",
    "    i += 1"
   ]
  },
  {
   "cell_type": "markdown",
   "metadata": {
    "editable": true
   },
   "source": [
    "# Part II. Complete the Apache Cassandra coding portion of your project. \n",
    "\n",
    "## Now you are ready to work with the CSV file titled <font color=red>event_datafile_new.csv</font>, located within the Workspace directory.  The event_datafile_new.csv contains the following columns: \n",
    "- artist \n",
    "- firstName of user\n",
    "- gender of user\n",
    "- item number in session\n",
    "- last name of user\n",
    "- length of the song\n",
    "- level (paid or free song)\n",
    "- location of the user\n",
    "- sessionId\n",
    "- song title\n",
    "- userId\n",
    "\n",
    "The image below is a screenshot of what the denormalized data should appear like in the <font color=red>**event_datafile_new.csv**</font> after the code above is run:<br>\n",
    "\n",
    "<img src=\"images/image_event_datafile_new.jpg\">"
   ]
  },
  {
   "cell_type": "markdown",
   "metadata": {
    "editable": true
   },
   "source": [
    "## Begin writing your Apache Cassandra code in the cells below"
   ]
  },
  {
   "cell_type": "markdown",
   "metadata": {
    "editable": true
   },
   "source": [
    "#### Creating a Cluster"
   ]
  },
  {
   "cell_type": "code",
   "execution_count": 6,
   "metadata": {
    "editable": true
   },
   "outputs": [],
   "source": [
    "# Connect to a Cassandra instance on local machine \n",
    "\n",
    "from cassandra.cluster import Cluster\n",
    "cluster = Cluster(['127.0.0.1'])\n",
    "\n",
    "# To establish connection and begin executing queries, need a session\n",
    "session = cluster.connect()"
   ]
  },
  {
   "cell_type": "markdown",
   "metadata": {
    "editable": true
   },
   "source": [
    "#### Create and set Keyspace"
   ]
  },
  {
   "cell_type": "code",
   "execution_count": 9,
   "metadata": {
    "editable": true
   },
   "outputs": [
    {
     "data": {
      "text/plain": [
       "<cassandra.cluster.ResultSet at 0x7f94b661e470>"
      ]
     },
     "execution_count": 9,
     "metadata": {},
     "output_type": "execute_result"
    }
   ],
   "source": [
    "query = \"CREATE KEYSPACE IF NOT EXISTS sparkifydb \"\n",
    "query = query + \"WITH REPLICATION = {'class': 'SimpleStrategy', 'replication_factor': 1}\"\n",
    "\n",
    "session.execute(query)\n",
    "session.execute(\"USE sparkifydb\")"
   ]
  },
  {
   "cell_type": "markdown",
   "metadata": {
    "editable": true
   },
   "source": [
    "### Now we need to create tables to run the following queries. Remember, with Apache Cassandra you model the database tables on the queries you want to run."
   ]
  },
  {
   "cell_type": "markdown",
   "metadata": {
    "editable": true
   },
   "source": [
    "## Create queries to ask the following three questions of the data\n",
    "\n",
    "### 1. Give me the artist, song title and song's length in the music app history that was heard during  sessionId = 338, and itemInSession  = 4\n",
    "\n",
    "\n",
    "### 2. Give me only the following: name of artist, song (sorted by itemInSession) and user (first and last name) for userid = 10, sessionid = 182\n",
    "    \n",
    "\n",
    "### 3. Give me every user name (first and last) in my music app history who listened to the song 'All Hands Against His Own'\n",
    "\n",
    "\n"
   ]
  },
  {
   "cell_type": "code",
   "execution_count": 54,
   "metadata": {
    "editable": true
   },
   "outputs": [
    {
     "data": {
      "text/plain": [
       "<cassandra.cluster.ResultSet at 0x7f948c4befd0>"
      ]
     },
     "execution_count": 54,
     "metadata": {},
     "output_type": "execute_result"
    }
   ],
   "source": [
    "drop_query1 = \"DROP TABLE IF EXISTS song_in_session_details;\"\n",
    "drop_query2 = \"DROP TABLE IF EXISTS user_session_song_details;\"\n",
    "drop_query3 = \"DROP TABLE IF EXISTS song_listens;\"\n",
    "\n",
    "create_query1 = \"CREATE TABLE IF NOT EXISTS song_in_session_details \"\n",
    "create_query1 = create_query1 + \"(sessionId int, itemInSession int, artist text, song text, length decimal, PRIMARY KEY(sessionId, itemInSession));\"\n",
    "\n",
    "create_query2 = \"CREATE TABLE IF NOT EXISTS user_session_song_details \"\n",
    "create_query2 = create_query2 + \"(userId int, sessionId int, itemInSession int, artist text, song text, firstName text, lastName text, PRIMARY KEY(userId, sessionId, itemInSession));\"\n",
    "\n",
    "create_query3 = \"CREATE TABLE IF NOT EXISTS song_listens \"\n",
    "create_query3 = create_query3 + \"(song text, userId int, firstName text, lastName text, PRIMARY KEY(song, userId));\"\n",
    "\n",
    "session.execute(drop_query1)\n",
    "session.execute(drop_query2)\n",
    "session.execute(drop_query3)\n",
    "session.execute(create_query1)\n",
    "session.execute(create_query2)\n",
    "session.execute(create_query3)"
   ]
  },
  {
   "cell_type": "code",
   "execution_count": 56,
   "metadata": {
    "editable": true
   },
   "outputs": [
    {
     "name": "stdout",
     "output_type": "stream",
     "text": [
      "/home/workspace/processed_events/event_datafile_22.csv\n",
      "/home/workspace/processed_events/event_datafile_11.csv\n",
      "/home/workspace/processed_events/event_datafile_0.csv\n",
      "/home/workspace/processed_events/event_datafile_19.csv\n",
      "/home/workspace/processed_events/event_datafile_6.csv\n",
      "/home/workspace/processed_events/event_datafile_1.csv\n",
      "/home/workspace/processed_events/event_datafile_4.csv\n",
      "/home/workspace/processed_events/event_datafile_14.csv\n",
      "/home/workspace/processed_events/event_datafile_5.csv\n",
      "/home/workspace/processed_events/event_datafile_16.csv\n",
      "/home/workspace/processed_events/event_datafile_3.csv\n",
      "/home/workspace/processed_events/event_datafile_13.csv\n",
      "/home/workspace/processed_events/event_datafile_10.csv\n",
      "/home/workspace/processed_events/event_datafile_15.csv\n",
      "/home/workspace/processed_events/event_datafile_28.csv\n",
      "/home/workspace/processed_events/event_datafile_17.csv\n",
      "/home/workspace/processed_events/event_datafile_20.csv\n",
      "/home/workspace/processed_events/event_datafile_25.csv\n",
      "/home/workspace/processed_events/event_datafile_27.csv\n",
      "/home/workspace/processed_events/event_datafile_7.csv\n",
      "/home/workspace/processed_events/event_datafile_18.csv\n",
      "/home/workspace/processed_events/event_datafile_24.csv\n",
      "/home/workspace/processed_events/event_datafile_12.csv\n",
      "/home/workspace/processed_events/event_datafile_9.csv\n",
      "/home/workspace/processed_events/event_datafile_26.csv\n",
      "/home/workspace/processed_events/event_datafile_29.csv\n",
      "/home/workspace/processed_events/event_datafile_23.csv\n",
      "/home/workspace/processed_events/event_datafile_21.csv\n",
      "/home/workspace/processed_events/event_datafile_2.csv\n",
      "/home/workspace/processed_events/event_datafile_8.csv\n"
     ]
    }
   ],
   "source": [
    "# We have provided part of the code to set up the CSV file. Please complete the Apache Cassandra code below\n",
    "# Get your current folder and subfolder event data\n",
    "filepath = os.getcwd() + '/processed_events'\n",
    "\n",
    "# Create a for loop to create a list of files and collect each filepath\n",
    "for root, dirs, files in os.walk(filepath):\n",
    "    # join the file path and roots with the subdirectories using glob\n",
    "    file_path_list = glob.glob(os.path.join(root,'*'))\n",
    "\n",
    "for file in file_path_list:\n",
    "    print(file)\n",
    "    with open(file, encoding = 'utf8') as f:\n",
    "        csvreader = csv.reader(f)\n",
    "        next(csvreader) # skip header\n",
    "        for line in csvreader:\n",
    "    ## TO-DO: Assign the INSERT statements into the `query` variable\n",
    "            query = \"INSERT INTO song_in_session_details (sessionId, itemInSession, artist, song, length) \"\n",
    "            query = query + \"VALUES (%s, %s, %s, %s, %s)\"\n",
    "            ## TO-DO: Assign which column element should be assigned for each column in the INSERT statement.\n",
    "            ## For e.g., to INSERT artist_name and user first_name, you would change the code below to `line[0], line[1]`\n",
    "            session.execute(query, [int(line[8]), int(line[3]), line[0], line[9], float(line[5])])\n",
    "            \n",
    "            query = \"INSERT INTO user_session_song_details (userId, sessionId, itemInSession, artist, song, firstName, lastName) \"\n",
    "            query = query + \"VALUES (%s, %s, %s, %s, %s, %s, %s)\"\n",
    "            ## TO-DO: Assign which column element should be assigned for each column in the INSERT statement.\n",
    "            ## For e.g., to INSERT artist_name and user first_name, you would change the code below to `line[0], line[1]`\n",
    "            session.execute(query, [int(line[10]), int(line[8]), int(line[3]), line[0], line[9], line[1], line[4]])\n",
    "            \n",
    "            query = \"INSERT INTO song_listens (song, userId, firstName, lastName) \"\n",
    "            query = query + \"VALUES (%s, %s, %s, %s)\"\n",
    "            ## TO-DO: Assign which column element should be assigned for each column in the INSERT statement.\n",
    "            ## For e.g., to INSERT artist_name and user first_name, you would change the code below to `line[0], line[1]`\n",
    "            session.execute(query, [line[9], int(line[10]), line[1], line[4]])"
   ]
  },
  {
   "cell_type": "markdown",
   "metadata": {
    "editable": true
   },
   "source": [
    "#### Do a SELECT to verify that the data have been inserted into each table"
   ]
  },
  {
   "cell_type": "code",
   "execution_count": 60,
   "metadata": {
    "editable": true,
    "scrolled": true
   },
   "outputs": [
    {
     "data": {
      "text/html": [
       "<div>\n",
       "<style scoped>\n",
       "    .dataframe tbody tr th:only-of-type {\n",
       "        vertical-align: middle;\n",
       "    }\n",
       "\n",
       "    .dataframe tbody tr th {\n",
       "        vertical-align: top;\n",
       "    }\n",
       "\n",
       "    .dataframe thead th {\n",
       "        text-align: right;\n",
       "    }\n",
       "</style>\n",
       "<table border=\"1\" class=\"dataframe\">\n",
       "  <thead>\n",
       "    <tr style=\"text-align: right;\">\n",
       "      <th></th>\n",
       "      <th>artist</th>\n",
       "      <th>song</th>\n",
       "      <th>length</th>\n",
       "    </tr>\n",
       "  </thead>\n",
       "  <tbody>\n",
       "    <tr>\n",
       "      <th>0</th>\n",
       "      <td>Faithless</td>\n",
       "      <td>Music Matters (Mark Knight Dub)</td>\n",
       "      <td>495.3073</td>\n",
       "    </tr>\n",
       "  </tbody>\n",
       "</table>\n",
       "</div>"
      ],
      "text/plain": [
       "      artist                             song    length\n",
       "0  Faithless  Music Matters (Mark Knight Dub)  495.3073"
      ]
     },
     "execution_count": 60,
     "metadata": {},
     "output_type": "execute_result"
    }
   ],
   "source": [
    "pd.DataFrame(list(session.execute(\"SELECT artist, song, length FROM song_in_session_details WHERE sessionId = 338 AND itemInSession = 4\")))"
   ]
  },
  {
   "cell_type": "code",
   "execution_count": 61,
   "metadata": {
    "editable": true
   },
   "outputs": [
    {
     "ename": "InvalidRequest",
     "evalue": "Error from server: code=2200 [Invalid query] message=\"unconfigured table user_session_song_details\"",
     "output_type": "error",
     "traceback": [
      "\u001b[0;31m---------------------------------------------------------------------------\u001b[0m",
      "\u001b[0;31mInvalidRequest\u001b[0m                            Traceback (most recent call last)",
      "\u001b[0;32m<ipython-input-61-3d4e09b49d37>\u001b[0m in \u001b[0;36m<module>\u001b[0;34m()\u001b[0m\n\u001b[1;32m      1\u001b[0m \u001b[0;31m## TO-DO: Add in the SELECT statement to verify the data was entered into the table\u001b[0m\u001b[0;34m\u001b[0m\u001b[0;34m\u001b[0m\u001b[0m\n\u001b[0;32m----> 2\u001b[0;31m \u001b[0mpd\u001b[0m\u001b[0;34m.\u001b[0m\u001b[0mDataFrame\u001b[0m\u001b[0;34m(\u001b[0m\u001b[0mlist\u001b[0m\u001b[0;34m(\u001b[0m\u001b[0msession\u001b[0m\u001b[0;34m.\u001b[0m\u001b[0mexecute\u001b[0m\u001b[0;34m(\u001b[0m\u001b[0;34m\"SELECT artist, song, firstName, lastName FROM user_session_song_details WHERE userId = 10 AND sessionId = 182\"\u001b[0m\u001b[0;34m)\u001b[0m\u001b[0;34m)\u001b[0m\u001b[0;34m)\u001b[0m\u001b[0;34m\u001b[0m\u001b[0m\n\u001b[0m",
      "\u001b[0;32m/opt/conda/lib/python3.6/site-packages/cassandra/cluster.cpython-36m-x86_64-linux-gnu.so\u001b[0m in \u001b[0;36mcassandra.cluster.Session.execute (cassandra/cluster.c:38536)\u001b[0;34m()\u001b[0m\n",
      "\u001b[0;32m/opt/conda/lib/python3.6/site-packages/cassandra/cluster.cpython-36m-x86_64-linux-gnu.so\u001b[0m in \u001b[0;36mcassandra.cluster.ResponseFuture.result (cassandra/cluster.c:80834)\u001b[0;34m()\u001b[0m\n",
      "\u001b[0;31mInvalidRequest\u001b[0m: Error from server: code=2200 [Invalid query] message=\"unconfigured table user_session_song_details\""
     ]
    }
   ],
   "source": [
    "pd.DataFrame(list(session.execute(\"SELECT artist, song, firstName, lastName FROM user_session_song_details WHERE userId = 10 AND sessionId = 182\")))"
   ]
  },
  {
   "cell_type": "code",
   "execution_count": 50,
   "metadata": {
    "editable": true
   },
   "outputs": [
    {
     "name": "stdout",
     "output_type": "stream",
     "text": [
      "Row(firstname='Jacqueline', lastname='Lynch')\n",
      "Row(firstname='Tegan', lastname='Levine')\n",
      "Row(firstname='Sara', lastname='Johnson')\n"
     ]
    }
   ],
   "source": [
    "pd.DataFrame(list(session.execute(\"SELECT firstName, lastName FROM song_listens WHERE song = 'All Hands Against His Own'\"))"
   ]
  },
  {
   "cell_type": "code",
   "execution_count": null,
   "metadata": {
    "editable": true
   },
   "outputs": [],
   "source": []
  },
  {
   "cell_type": "markdown",
   "metadata": {
    "editable": true
   },
   "source": [
    "### Drop the tables before closing out the sessions"
   ]
  },
  {
   "cell_type": "code",
   "execution_count": 4,
   "metadata": {
    "editable": true
   },
   "outputs": [],
   "source": [
    "## TO-DO: Drop the table before closing out the sessions"
   ]
  },
  {
   "cell_type": "code",
   "execution_count": 51,
   "metadata": {
    "editable": true
   },
   "outputs": [
    {
     "data": {
      "text/plain": [
       "<cassandra.cluster.ResultSet at 0x7f94b6571ba8>"
      ]
     },
     "execution_count": 51,
     "metadata": {},
     "output_type": "execute_result"
    }
   ],
   "source": [
    "query = \"DROP TABLE IF EXISTS song_in_session_details;\"\n",
    "query1 = \"DROP TABLE IF EXISTS user_session_song_details;\"\n",
    "query2 = \"DROP TABLE IF EXISTS song_listens;\"\n",
    "\n",
    "session.execute(query)\n",
    "session.execute(query1)\n",
    "session.execute(query2)"
   ]
  },
  {
   "cell_type": "markdown",
   "metadata": {
    "editable": true
   },
   "source": [
    "### Close the session and cluster connection¶"
   ]
  },
  {
   "cell_type": "code",
   "execution_count": null,
   "metadata": {
    "editable": true
   },
   "outputs": [],
   "source": [
    "session.shutdown()\n",
    "cluster.shutdown()"
   ]
  },
  {
   "cell_type": "code",
   "execution_count": null,
   "metadata": {
    "editable": true
   },
   "outputs": [],
   "source": []
  },
  {
   "cell_type": "code",
   "execution_count": null,
   "metadata": {
    "editable": true
   },
   "outputs": [],
   "source": []
  }
 ],
 "metadata": {
  "kernelspec": {
   "display_name": "Python 3",
   "language": "python",
   "name": "python3"
  },
  "language_info": {
   "codemirror_mode": {
    "name": "ipython",
    "version": 3
   },
   "file_extension": ".py",
   "mimetype": "text/x-python",
   "name": "python",
   "nbconvert_exporter": "python",
   "pygments_lexer": "ipython3",
   "version": "3.6.3"
  }
 },
 "nbformat": 4,
 "nbformat_minor": 4
}
